{
 "cells": [
  {
   "cell_type": "code",
   "execution_count": 1,
   "metadata": {},
   "outputs": [],
   "source": [
    "import numpy as np\n",
    "import matplotlib.pyplot as plt\n",
    "import pandas as pd"
   ]
  },
  {
   "cell_type": "code",
   "execution_count": 16,
   "metadata": {},
   "outputs": [],
   "source": [
    "# Define the geometry of foundation\n",
    "L=2.5 # Length of foundation in m\n",
    "B=2.5 # Width of foundation in m\n",
    "\n",
    "# Discretize the foundation\n",
    "Nx=10 # Number of elements along x\n",
    "Ny=10 # Number of elements along y\n",
    "\n",
    "dx=L/Nx # Length of element along x\n",
    "dy=B/Ny # Length of element along y"
   ]
  },
  {
   "cell_type": "code",
   "execution_count": 17,
   "metadata": {},
   "outputs": [
    {
     "data": {
      "text/plain": [
       "<matplotlib.collections.PathCollection at 0x1b37bc715b0>"
      ]
     },
     "execution_count": 17,
     "metadata": {},
     "output_type": "execute_result"
    },
    {
     "data": {
      "image/png": "[encoded data removed]",
      "text/plain": [
       "<Figure size 432x288 with 1 Axes>"
      ]
     },
     "metadata": {
      "needs_background": "light"
     },
     "output_type": "display_data"
    }
   ],
   "source": [
    "# Define coordinates of discretized point loads\n",
    "\n",
    "N_grids=Nx*Ny # Total number of grids\n",
    "\n",
    "# Define the coordinates of the point loads\n",
    "coordinates=np.zeros((N_grids,2))\n",
    "\n",
    "for i in range(Nx):\n",
    "    for j in range(Ny):\n",
    "        coordinates[i*Ny+j,0]=i*dx+dx/2\n",
    "        coordinates[i*Ny+j,1]=j*dy+dy/2\n",
    "\n",
    "# Plot the grid points\n",
    "plt.scatter(coordinates[:,0],coordinates[:,1])"
   ]
  },
  {
   "cell_type": "code",
   "execution_count": 18,
   "metadata": {},
   "outputs": [
    {
     "data": {
      "text/plain": [
       "0.1193662073189215"
      ]
     },
     "execution_count": 18,
     "metadata": {},
     "output_type": "execute_result"
    }
   ],
   "source": [
    "# Function to calculate increment of stress at point\n",
    "def stress_increment(x,y,x0,y0, z0, Q):\n",
    "    # Calculate the distance between the point and the load\n",
    "    r=np.sqrt((x-x0)**2+(y-y0)**2)\n",
    "    # Calculate the increment of stress\n",
    "    I= 3/(2*np.pi*z0**2*(1+(r/z0)**2)**2.5 )\n",
    "\n",
    "    return I\n",
    "\n",
    "#Test\n",
    "stress_increment(0,0,0,0,2,100)"
   ]
  },
  {
   "cell_type": "code",
   "execution_count": 19,
   "metadata": {},
   "outputs": [
    {
     "name": "stdout",
     "output_type": "stream",
     "text": [
      "The increment of stress at the point is 7.21 kPa\n"
     ]
    }
   ],
   "source": [
    "# Compute the stress increment at each grid point\n",
    "Q=100 # Load intensity in kN\n",
    "q=Q/(L*B) # Load intensity in kN/m2\n",
    "z0=2 # Depth of load in m\n",
    "\n",
    "Is=np.zeros(N_grids)\n",
    "Is=stress_increment(coordinates[:,0],coordinates[:,1],1.25,1.25,z0,Q)\n",
    "\n",
    "# Sum all influence factors I\n",
    "I=Is.sum()\n",
    "dSigma=I*q*dy*dx\n",
    "\n",
    "#print result with two decimal places\n",
    "print('The increment of stress at the point is %.2f kPa' %dSigma)\n"
   ]
  },
  {
   "cell_type": "code",
   "execution_count": 22,
   "metadata": {},
   "outputs": [],
   "source": [
    "# Now loop over different discretizations to plot stress vs number of elements\n",
    "N_elements=np.arange(1,21)\n",
    "stress=np.zeros(len(N_elements))\n",
    "\n",
    "for i in range(len(N_elements)):\n",
    "    Nx=N_elements[i]\n",
    "    Ny=N_elements[i]\n",
    "    dx=L/Nx\n",
    "    dy=B/Ny\n",
    "\n",
    "    N_grids=Nx*Ny\n",
    "    coordinates=np.zeros((N_grids,2))\n",
    "\n",
    "    for i in range(Nx):\n",
    "        for j in range(Ny):\n",
    "            coordinates[i*Ny+j,0]=i*dx+dx/2\n",
    "            coordinates[i*Ny+j,1]=j*dy+dy/2\n",
    "\n",
    "    Is=stress_increment(coordinates[:,0],coordinates[:,1],1.25,1.25,z0,Q)\n",
    "    I=Is.sum()\n",
    "    stress[i]=I*q*dy*dx\n",
    "\n"
   ]
  },
  {
   "cell_type": "code",
   "execution_count": 32,
   "metadata": {},
   "outputs": [
    {
     "data": {
      "image/png": "[encoded data removed]",
      "text/plain": [
       "<Figure size 576x273.6 with 1 Axes>"
      ]
     },
     "metadata": {
      "needs_background": "light"
     },
     "output_type": "display_data"
    }
   ],
   "source": [
    "plt.plot(N_elements,stress, '*-')\n",
    "# Add labels\n",
    "plt.xlabel('Number of elements')\n",
    "plt.ylabel(r'Stress increment $\\Delta \\sigma_{Az}$ (kPa)')\n",
    "\n",
    "# Make y scale logarithmic\n",
    "plt.xscale('log')\n",
    "\n",
    "\n",
    "# Size the figure as 4 in wide by 2 in tall\n",
    "plt.gcf().set_size_inches(8, 3.8)\n",
    "\n",
    "# Save the figure as svg\n",
    "plt.savefig('stress_increment.svg', format='svg')"
   ]
  },
  {
   "cell_type": "code",
   "execution_count": 99,
   "metadata": {},
   "outputs": [
    {
     "data": {
      "text/plain": [
       "<matplotlib.collections.PathCollection at 0x1b37fbf0790>"
      ]
     },
     "execution_count": 99,
     "metadata": {},
     "output_type": "execute_result"
    },
    {
     "data": {
      "image/png": "[encoded data removed]",
      "text/plain": [
       "<Figure size 432x288 with 1 Axes>"
      ]
     },
     "metadata": {
      "needs_background": "light"
     },
     "output_type": "display_data"
    }
   ],
   "source": [
    "# Now plot stress increments at different depths and positions. Make the coordinate of the midpoint of the footing the origin\n",
    "\n",
    "# Define the coordinates of underground points i.e. (x, z) x=0 is midpoint of footing\n",
    "B=1.5 # Width of footing\n",
    "L=10*B # Length of footing\n",
    "\n",
    "D= 8*B # Depth of profile\n",
    "LS= 3*B # Length of profile\n",
    "\n",
    "Nz=100 # Number of elements along z\n",
    "Nx=100 # Number of elements along x\n",
    "\n",
    "dz=D/Nz # Length of element along z\n",
    "dx=LS/Nx # Length of element along x\n",
    "\n",
    "# Define coordinates of grid points\n",
    "N_grids=(Nz+1)*(Nx+1) # Total number of grids points\n",
    "coordinates=np.zeros((N_grids,2))\n",
    "StressInc_vector=np.zeros(N_grids)\n",
    "\n",
    "# Plot the grid points\n",
    "\n",
    "for i in range(Nx+1):\n",
    "    for j in range(Nz+1):\n",
    "        coordinates[i*(Nz+1)+j,0]=(i*dx)-0.5*LS\n",
    "        coordinates[i*(Nz+1)+j,1]=(j*dz)\n",
    "\n",
    "plt.scatter(coordinates[:,0],coordinates[:,1])"
   ]
  },
  {
   "cell_type": "code",
   "execution_count": 100,
   "metadata": {},
   "outputs": [
    {
     "data": {
      "text/plain": [
       "<matplotlib.collections.PathCollection at 0x1b37fbf00d0>"
      ]
     },
     "execution_count": 100,
     "metadata": {},
     "output_type": "execute_result"
    },
    {
     "data": {
      "image/png": "[encoded data removed]",
      "text/plain": [
       "<Figure size 432x288 with 1 Axes>"
      ]
     },
     "metadata": {
      "needs_background": "light"
     },
     "output_type": "display_data"
    }
   ],
   "source": [
    "# Discretize foundation into elements and calculate stress increment at each grid point\n",
    "\n",
    "Nxx=10 # Number of elements along x\n",
    "Nyy=100 # Number of elements along y\n",
    "\n",
    "dxx=B/Nxx # Length of element along x\n",
    "dyy=L/Nyy # Length of element along y\n",
    "\n",
    "# Define the coordinates of the point loads\n",
    "coordinates_foundation=np.zeros((Nxx*Nyy,2))\n",
    "\n",
    "for i in range(Nxx):\n",
    "    for j in range(Nyy):\n",
    "        coordinates_foundation[i*Nyy+j,0]=(i*dxx+dxx/2)-B/2\n",
    "        coordinates_foundation[i*Nyy+j,1]=(j*dyy+dyy/2)-L/2\n",
    "\n",
    "# Plot the grid points\n",
    "plt.scatter(coordinates_foundation[:,0],coordinates_foundation[:,1])"
   ]
  },
  {
   "cell_type": "code",
   "execution_count": 101,
   "metadata": {},
   "outputs": [
    {
     "name": "stderr",
     "output_type": "stream",
     "text": [
      "C:\\Users\\zamcr\\AppData\\Local\\Temp/ipykernel_25884/1707980348.py:6: RuntimeWarning: divide by zero encountered in scalar divide\n",
      "  I= 3/(2*np.pi*z0**2*(1+(r/z0)**2)**2.5 )\n",
      "C:\\Users\\zamcr\\AppData\\Local\\Temp/ipykernel_25884/1707980348.py:6: RuntimeWarning: invalid value encountered in scalar multiply\n",
      "  I= 3/(2*np.pi*z0**2*(1+(r/z0)**2)**2.5 )\n"
     ]
    },
    {
     "data": {
      "image/png": "[encoded data removed]",
      "text/plain": [
       "<Figure size 144x288 with 2 Axes>"
      ]
     },
     "metadata": {
      "needs_background": "light"
     },
     "output_type": "display_data"
    }
   ],
   "source": [
    "# Calculate the increment of stress at each grid point in the soil profile\n",
    "StressInc_vector=np.zeros(N_grids)\n",
    "for i in range(N_grids):\n",
    "    x0=coordinates[i,0]\n",
    "    z0=coordinates[i,1]\n",
    "    y0=0\n",
    "    for j in range(Nxx*Nyy):\n",
    "        x=coordinates_foundation[j,0]\n",
    "        y=coordinates_foundation[j,1]\n",
    "        Is=stress_increment(x,y,x0,y0,z0,Q)\n",
    "        StressInc_vector[i]+=Is\n",
    "    StressInc_vector[i]=StressInc_vector[i]*q*dxx*dyy\n",
    "    \n",
    "\n",
    "# Make a contour plot of the stress increment\n",
    "X=coordinates[:,0].reshape((Nx+1,Nz+1))/B\n",
    "Z=coordinates[:,1].reshape((Nx+1,Nz+1))/B\n",
    "StressInc=StressInc_vector.reshape((Nx+1,Nz+1))/q\n",
    "\n",
    "\n",
    "\n",
    "# Add more color levels\n",
    "plt.contourf(X,Z,StressInc, levels=10, cmap='RdBu_r')\n",
    "# invert the y axis\n",
    "plt.gca().invert_yaxis()\n",
    "plt.colorbar(label=r'Normalized Stress increment $\\Delta \\sigma_{z}/q$')\n",
    "plt.xlabel('x/B')\n",
    "plt.ylabel('z/B')\n",
    "\n",
    "# Scale x and y axis equally\n",
    "plt.axis('equal')\n",
    "\n",
    "# Size the figure as 1 in wide by 2 in tall\n",
    "plt.gcf().set_size_inches(2, 4)\n",
    "\n",
    "# Save the figure as svg\n",
    "plt.savefig('stress_increment_profile.svg', format='svg')"
   ]
  },
  {
   "cell_type": "code",
   "execution_count": null,
   "metadata": {},
   "outputs": [],
   "source": []
  }
 ],
 "metadata": {
  "kernelspec": {
   "display_name": "base",
   "language": "python",
   "name": "python3"
  },
  "language_info": {
   "codemirror_mode": {
    "name": "ipython",
    "version": 3
   },
   "file_extension": ".py",
   "mimetype": "text/x-python",
   "name": "python",
   "nbconvert_exporter": "python",
   "pygments_lexer": "ipython3",
   "version": "3.9.7"
  }
 },
 "nbformat": 4,
 "nbformat_minor": 2
}
