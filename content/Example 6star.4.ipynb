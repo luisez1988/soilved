{
 "cells": [
  {
   "cell_type": "code",
   "execution_count": 5,
   "metadata": {},
   "outputs": [
    {
     "name": "stderr",
     "output_type": "stream",
     "text": [
      "c:\\ProgramData\\Anaconda3\\lib\\site-packages\\scipy\\__init__.py:146: UserWarning: A NumPy version >=1.16.5 and <1.23.0 is required for this version of SciPy (detected version 1.26.4\n",
      "  warnings.warn(f\"A NumPy version >={np_minversion} and <{np_maxversion}\"\n"
     ]
    }
   ],
   "source": [
    "import numpy as np\n",
    "import matplotlib.pyplot as plt\n",
    "import pandas as pd\n",
    "import Soilved as slv"
   ]
  },
  {
   "cell_type": "code",
   "execution_count": 7,
   "metadata": {},
   "outputs": [],
   "source": [
    "# Function to calculate settlement due to primary consolidation discretized\n",
    "\n",
    "def delta_pc(sigma_o, sigma_f, OCR, Cc, Cr, Ho, eo):\n",
    "    if OCR>1:\n",
    "        sigma_c= sigma_o*OCR #calculate the preconsolidation stress\n",
    "        if sigma_f<sigma_c:\n",
    "            dpc= Ho*(Cr*np.log10(sigma_f/sigma_o))/(1+eo)\n",
    "        else:\n",
    "            dpc= Ho*(Cr*np.log10(OCR)+ Cc*np.log10(sigma_f/sigma_c) )/(1+eo)\n",
    "    else:\n",
    "        dpc= Ho*(Cc*np.log10(sigma_f/sigma_o))/(1+eo)\n",
    "    return dpc\n",
    "\n",
    "\n",
    "def calc_layered_settlement(H_total, n_layers, gamma_sat, q, B, OCR, Cc, Cr, eo):\n",
    "    # Calculate the thickness of each layer\n",
    "    H_layer= H_total/n_layers\n",
    "    #Loop trough layers\n",
    "    total_settlement=0\n",
    "    for i in range(n_layers):\n",
    "        #calculate effective stress at mid layer\n",
    "        z= H_layer*(i+0.5)\n",
    "        sigma_o= (gamma_sat-62.4)*z #effective stress at mid layer in psf\n",
    "        # calculate stress increase\n",
    "        Delta_sigma= stress_increase(q, B, z)\n",
    "        # Calculate final effective stress\n",
    "        sigma_f= sigma_o+Delta_sigma\n",
    "        #calculate settlement\n",
    "        total_settlement+= delta_pc(sigma_o, sigma_f, OCR, Cc, Cr, H_layer, eo)\n",
    "    return total_settlement\n",
    "\n",
    "def stress_increase(q, B, z):\n",
    "    alpha= np.arctan(0.5*B/z) #angle of the stress increase\n",
    "    I=2*(alpha+np.sin(alpha)*np.cos(alpha))/np.pi #infleunce factor\n",
    "    Delta_sigma= q*I #stress increase\n",
    "    return Delta_sigma"
   ]
  },
  {
   "cell_type": "code",
   "execution_count": 8,
   "metadata": {},
   "outputs": [
    {
     "name": "stdout",
     "output_type": "stream",
     "text": [
      "2.595099538856377\n"
     ]
    }
   ],
   "source": [
    "dpc=calc_layered_settlement(25, 1, 125, 6000, 15, 1.5, 0.33, 0.05, 0.95)\n",
    "\n",
    "print(dpc)"
   ]
  },
  {
   "cell_type": "code",
   "execution_count": 10,
   "metadata": {},
   "outputs": [
    {
     "name": "stdout",
     "output_type": "stream",
     "text": [
      "3.15540931255373\n"
     ]
    }
   ],
   "source": [
    "dpc=calc_layered_settlement(25, 10, 125, 6000, 15, 1.5, 0.33, 0.05, 0.95)\n",
    "\n",
    "print(dpc)"
   ]
  },
  {
   "cell_type": "code",
   "execution_count": 17,
   "metadata": {},
   "outputs": [
    {
     "data": {
      "image/png": "[encoded data removed]",
      "text/plain": [
       "<Figure size 576x288 with 1 Axes>"
      ]
     },
     "metadata": {
      "needs_background": "light"
     },
     "output_type": "display_data"
    }
   ],
   "source": [
    "#calculate settlement for different number of layers\n",
    "n_layers= np.arange(1, 1001)\n",
    "\n",
    "settlement= np.zeros(len(n_layers))\n",
    "\n",
    "for i in range(len(n_layers)):\n",
    "    settlement[i]= calc_layered_settlement(25, n_layers[i], 125, 6000, 15, 1.5, 0.33, 0.05, 0.95)\n",
    "\n",
    "# Plot the results\n",
    "plt.plot(n_layers, settlement)\n",
    "plt.xlabel('Number of layers')\n",
    "plt.ylabel('Settlement (ft)')\n",
    "\n",
    "#make x axis logarithmic\n",
    "plt.xscale('log')\n",
    "\n",
    "# Make plot be 8x4 inches\n",
    "plt.gcf().set_size_inches(8, 4)\n",
    "\n",
    "# save as svg\n",
    "plt.savefig('settlement.svg')"
   ]
  },
  {
   "cell_type": "code",
   "execution_count": null,
   "metadata": {},
   "outputs": [],
   "source": []
  }
 ],
 "metadata": {
  "kernelspec": {
   "display_name": "base",
   "language": "python",
   "name": "python3"
  },
  "language_info": {
   "codemirror_mode": {
    "name": "ipython",
    "version": 3
   },
   "file_extension": ".py",
   "mimetype": "text/x-python",
   "name": "python",
   "nbconvert_exporter": "python",
   "pygments_lexer": "ipython3",
   "version": "3.9.7"
  }
 },
 "nbformat": 4,
 "nbformat_minor": 2
}
